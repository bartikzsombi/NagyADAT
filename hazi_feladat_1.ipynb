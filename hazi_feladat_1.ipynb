{
 "cells": [
  {
   "cell_type": "code",
   "execution_count": null,
   "metadata": {},
   "outputs": [],
   "source": [
    "%%html\n",
    "<style>\n",
    ".question{ \n",
    "    background: #99ffff;\n",
    "    border: solid 1px #1356ff;\n",
    "    border-radius: 3px;\n",
    "    padding: 2px;\n",
    "}\n",
    ".question>code {background: #e8ffff;border: solid 1px #83aab7;}\n",
    ".warning {background: #ffadad;}\n",
    ".Q{font-weight: bold;}\n",
    "</style>"
   ]
  },
  {
   "cell_type": "markdown",
   "metadata": {},
   "source": [
    "1. <font class=\"warning\">A fenti cella tartalmát kérem ne módositsa!</font>\n",
    "2. A kódcellákon belül csak a `## TODO ##` részt töltse ki. "
   ]
  },
  {
   "cell_type": "markdown",
   "metadata": {},
   "source": [
    "# 1. házi feladat - vizualizáció"
   ]
  },
  {
   "cell_type": "code",
   "execution_count": null,
   "metadata": {},
   "outputs": [],
   "source": [
    "import numpy as np\n",
    "from matplotlib import pyplot as plt\n",
    "import pandas as pd\n",
    "import seaborn as sns"
   ]
  },
  {
   "cell_type": "markdown",
   "metadata": {},
   "source": [
    "<p class=\"question\"><span class=\"Q\">1. feladat:</span> Olvassa be a <code>wine-quality.csv</code> adathalmazt, majd írassa ki a beolvasott fájl első 10 adatsorát!</p>"
   ]
  },
  {
   "cell_type": "code",
   "execution_count": null,
   "metadata": {},
   "outputs": [],
   "source": [
    "df = ## TODO ##"
   ]
  },
  {
   "cell_type": "code",
   "execution_count": null,
   "metadata": {},
   "outputs": [],
   "source": [
    "## TODO ##"
   ]
  },
  {
   "cell_type": "markdown",
   "metadata": {},
   "source": [
    "<p class=\"question\"><span class=\"Q\">2. feladat:</span> Hozzon létre egy új <code>red</code> adathalmazt, amely csak a vörös borok adatait tartalmazza! Írassa ki az új adathalmaz utolsó 5 adatsorát!</p>"
   ]
  },
  {
   "cell_type": "code",
   "execution_count": null,
   "metadata": {},
   "outputs": [],
   "source": [
    "red = ## TODO ##"
   ]
  },
  {
   "cell_type": "code",
   "execution_count": null,
   "metadata": {},
   "outputs": [],
   "source": [
    "## TODO ##"
   ]
  },
  {
   "cell_type": "markdown",
   "metadata": {},
   "source": [
    "<p class=\"question\"><span class=\"Q\">3. feladat:</span> Rendezze csökkenő sorrendbe az eredeti <code>df</code> adathalmaz elemeit az <code>alcohol</code> oszlop értékei szerint! Ellenőrizze a sorrend helyességét az első 10 adatsor kiiratásával!</p>"
   ]
  },
  {
   "cell_type": "code",
   "execution_count": null,
   "metadata": {},
   "outputs": [],
   "source": [
    "df1 =  ## TODO ##"
   ]
  },
  {
   "cell_type": "code",
   "execution_count": null,
   "metadata": {},
   "outputs": [],
   "source": [
    "## TODO ##"
   ]
  },
  {
   "cell_type": "markdown",
   "metadata": {},
   "source": [
    "<p class=\"question\"><span class=\"Q\">4. feladat:</span> a.) Kérdezze le, hogy a <code>df</code> adathalmaz milyen minőségű borokból hányat tartalmaz a <code>quality</code> oszlop adatai alapján!\n",
    "b.) Válasszon egy megfelelő plotolási lehetőséget ezen adatok megjelenítésére!</p>"
   ]
  },
  {
   "cell_type": "code",
   "execution_count": null,
   "metadata": {},
   "outputs": [],
   "source": [
    "## TODO ##"
   ]
  },
  {
   "cell_type": "code",
   "execution_count": null,
   "metadata": {},
   "outputs": [],
   "source": [
    "## TODO ##"
   ]
  },
  {
   "cell_type": "markdown",
   "metadata": {},
   "source": [
    "<p class=\"question\"><span class=\"Q\">5. feladat:</span> a.) Mutassa meg a vörös és fehér borok közötti különbséget a <code>df</code> adathalmaz <code>density</code> oszlop adatai alapján boxdiagramok alkalmazásával! b.) Végezzen el hasonló összehasonlítást a két bortípus között a <code>total sulfur dioxide</code> oszlop adatai alapján violinplot alkalmazásával!</p>"
   ]
  },
  {
   "cell_type": "code",
   "execution_count": null,
   "metadata": {},
   "outputs": [],
   "source": [
    "## TODO ##"
   ]
  },
  {
   "cell_type": "code",
   "execution_count": null,
   "metadata": {},
   "outputs": [],
   "source": [
    "## TODO ##"
   ]
  },
  {
   "cell_type": "markdown",
   "metadata": {},
   "source": [
    "<p class=\"question\"><span class=\"Q\">6. feladat:</span> Vizsgálja meg a <code>df</code> adathalmazban szereplő oszlopok közötti kapcsolatokat a korrelációs mátrixuk felhasználásával, melynek értékeit hőtérképen jelenítse meg!</p> "
   ]
  },
  {
   "cell_type": "code",
   "execution_count": null,
   "metadata": {},
   "outputs": [],
   "source": [
    "fig = plt.figure(figsize=(10,7))\n",
    "## TODO ##"
   ]
  },
  {
   "cell_type": "markdown",
   "metadata": {},
   "source": [
    "<p class=\"question\"><span class=\"Q\">7. feladat:</span> Vizsgálja meg a <code>df</code> adathalmazban szereplő <code>fixed acidity</code>, <code>density</code>, <code>total sulfur dioxide</code>, <code>alcohol</code>, <code>quality</code> és <code>pH</code> oszlopok közötti kapcsolatokat pairplot alkalmazásával, a <code>type</code> oszlop alapján a különböző bortípusokhoz tartozó adatokat különböző színnel megjelenítve!</p> "
   ]
  },
  {
   "cell_type": "code",
   "execution_count": null,
   "metadata": {},
   "outputs": [],
   "source": [
    "## TODO ##"
   ]
  },
  {
   "cell_type": "markdown",
   "metadata": {},
   "source": [
    "<p class=\"question\"><span class=\"Q\">8. feladat</span> a.) Vizsgálja meg az <code>alcohol</code> és <code>density</code> oszlopok közötti kapcsolatot lineplot alkalmazásával! b.) Módosítsuk az előző megoldást, ha ugyanezt a kapcsolatot csak a jobb minőségű borokra szeretnénk megvizsgálni, ahol a <code>quality</code> oszlopban szereplő érték legalább 7.</p>"
   ]
  },
  {
   "cell_type": "code",
   "execution_count": null,
   "metadata": {},
   "outputs": [],
   "source": [
    "## TODO ##"
   ]
  },
  {
   "cell_type": "code",
   "execution_count": null,
   "metadata": {},
   "outputs": [],
   "source": [
    "## TODO ##"
   ]
  }
 ],
 "metadata": {
  "kernelspec": {
   "display_name": "Python 3",
   "language": "python",
   "name": "python3"
  },
  "language_info": {
   "codemirror_mode": {
    "name": "ipython",
    "version": 3
   },
   "file_extension": ".py",
   "mimetype": "text/x-python",
   "name": "python",
   "nbconvert_exporter": "python",
   "pygments_lexer": "ipython3",
   "version": "3.7.4"
  }
 },
 "nbformat": 4,
 "nbformat_minor": 4
}
